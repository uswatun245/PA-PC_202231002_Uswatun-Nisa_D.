{
 "cells": [
  {
   "cell_type": "code",
   "execution_count": 50,
   "id": "61d471c5-246e-4b95-b64d-acb273951120",
   "metadata": {},
   "outputs": [],
   "source": [
    "# Import pustaka yang diperlukan\n",
    "import cv2"
   ]
  },
  {
   "cell_type": "code",
   "execution_count": 51,
   "id": "ca23bee8-9456-4ad8-9a66-9061206750a0",
   "metadata": {},
   "outputs": [],
   "source": [
    "# Membaca gambar\n",
    "image = cv2.imread('my foto.jpg')"
   ]
  },
  {
   "cell_type": "code",
   "execution_count": 52,
   "id": "6c36b33c-90f6-4418-9ebd-cf05e8b927a5",
   "metadata": {},
   "outputs": [
    {
     "data": {
      "text/plain": [
       "-1"
      ]
     },
     "execution_count": 52,
     "metadata": {},
     "output_type": "execute_result"
    }
   ],
   "source": [
    "# Menampilkan citra asli\n",
    "cv2.imshow('Citra Asli', image)\n",
    "cv2.waitKey(0)"
   ]
  },
  {
   "cell_type": "code",
   "execution_count": 54,
   "id": "7301b251-e2d0-4523-a740-4aa99aa0fc70",
   "metadata": {},
   "outputs": [
    {
     "data": {
      "text/plain": [
       "-1"
      ]
     },
     "execution_count": 54,
     "metadata": {},
     "output_type": "execute_result"
    }
   ],
   "source": [
    "# Memutar citra\n",
    "rotated_image = cv2.rotate(image, cv2.ROTATE_90_CLOCKWISE)\n",
    "\n",
    "# Menampilkan citra yang diputar\n",
    "cv2.imshow('Citra Diputar', rotated_image)\n",
    "cv2.waitKey(0)"
   ]
  },
  {
   "cell_type": "code",
   "execution_count": 55,
   "id": "a215fa70-06a9-42e2-945a-36756c9ac823",
   "metadata": {},
   "outputs": [
    {
     "data": {
      "text/plain": [
       "-1"
      ]
     },
     "execution_count": 55,
     "metadata": {},
     "output_type": "execute_result"
    }
   ],
   "source": [
    "# Mengubah ukuran citra\n",
    "resized_image = cv2.resize(image, (256, 256))\n",
    "\n",
    "# Menampilkan citra yang diubah ukurannya\n",
    "cv2.imshow('Citra Diubah Ukuran', resized_image)\n",
    "cv2.waitKey(0)"
   ]
  },
  {
   "cell_type": "code",
   "execution_count": 56,
   "id": "1082808c-76f0-4bcf-9759-e46b3750a0d5",
   "metadata": {},
   "outputs": [
    {
     "data": {
      "text/plain": [
       "-1"
      ]
     },
     "execution_count": 56,
     "metadata": {},
     "output_type": "execute_result"
    }
   ],
   "source": [
    "# Memotong citra\n",
    "cropped_image = image[100:200, 100:200]\n",
    "\n",
    "# Menampilkan citra yang dipotong\n",
    "cv2.imshow('Citra Dipotong', cropped_image)\n",
    "cv2.waitKey(0)"
   ]
  },
  {
   "cell_type": "code",
   "execution_count": 57,
   "id": "95109388-78ef-4996-a11b-ef0105b97630",
   "metadata": {},
   "outputs": [
    {
     "data": {
      "text/plain": [
       "-1"
      ]
     },
     "execution_count": 57,
     "metadata": {},
     "output_type": "execute_result"
    }
   ],
   "source": [
    "# Membalik citra\n",
    "flipped_image = cv2.flip(image, 1)\n",
    "\n",
    "# Menampilkan citra yang dibalik\n",
    "cv2.imshow('Citra Dibalik', flipped_image)\n",
    "cv2.waitKey(0)"
   ]
  },
  {
   "cell_type": "code",
   "execution_count": 58,
   "id": "3f55168d-36b5-4e60-95db-2387b4ab1d99",
   "metadata": {},
   "outputs": [],
   "source": [
    "# Menerjemahkan citra\n",
    "translated_image = cv2.pyrUp(image)\n",
    "\n",
    "# Menampilkan citra yang diterjemahkan\n",
    "cv2.imshow('Citra Diterjemahkan', translated_image)\n",
    "cv2.waitKey(0)\n",
    "\n",
    "# Menutup semua jendela\n",
    "cv2.destroyAllWindows()"
   ]
  }
 ],
 "metadata": {
  "kernelspec": {
   "display_name": "Python 3 (ipykernel)",
   "language": "python",
   "name": "python3"
  },
  "language_info": {
   "codemirror_mode": {
    "name": "ipython",
    "version": 3
   },
   "file_extension": ".py",
   "mimetype": "text/x-python",
   "name": "python",
   "nbconvert_exporter": "python",
   "pygments_lexer": "ipython3",
   "version": "3.11.7"
  }
 },
 "nbformat": 4,
 "nbformat_minor": 5
}
